{
 "cells": [
  {
   "cell_type": "code",
   "execution_count": 1,
   "id": "fa6c5265",
   "metadata": {},
   "outputs": [],
   "source": [
    "#importing nescssary libraries\n",
    "import requests\n",
    "from bs4 import BeautifulSoup\n",
    "import pandas as pd"
   ]
  },
  {
   "cell_type": "code",
   "execution_count": 2,
   "id": "22a88537",
   "metadata": {},
   "outputs": [],
   "source": [
    "# reading data from input.xlsx\n",
    "data = pd.read_excel('Input.xlsx')"
   ]
  },
  {
   "cell_type": "code",
   "execution_count": 4,
   "id": "9850b36a",
   "metadata": {},
   "outputs": [],
   "source": [
    "# Extracting arcticle text from URL\n",
    "# def extract_arcticle_text(url):\n",
    "#     response = requests.get(url)\n",
    "#     soup =BeautifulSoup(response.content,'html.parser')\n",
    "    \n",
    "#     title_element = soup.find('h1')\n",
    "#     article_element = soup.find_all('p')\n",
    "    \n",
    "#     title = title_element.text.strip() if title_element else ''\n",
    "#     article_text = ' '.join([element.text.strip() for element in article_element])\n",
    "\n",
    "#     return title, article_text\n",
    "\n",
    "    "
   ]
  },
  {
   "cell_type": "code",
   "execution_count": 5,
   "id": "fcb334fd",
   "metadata": {},
   "outputs": [],
   "source": [
    "#Looping through URLs for extraction\n",
    "# for index,row in data.iterrows():\n",
    "#     url_id = row['URL_ID']\n",
    "#     url = row['URL']\n",
    "    \n",
    "#     title,article_text = extract_arcticle_text(url)\n",
    "\n"
   ]
  },
  {
   "cell_type": "code",
   "execution_count": 6,
   "id": "4117a8e6",
   "metadata": {},
   "outputs": [
    {
     "name": "stdout",
     "output_type": "stream",
     "text": [
      "Article extracted and saved :150.txt\n"
     ]
    }
   ],
   "source": [
    "# # Saving extracted article to text file\n",
    "# filename = f'{url_id}.txt'\n",
    "# with open(filename,'w',encoding='utf-8') as file:\n",
    "#     file.write(f'Title:{title}\\n\\n')\n",
    "#     file.write(article_text)\n",
    "# print(f'Article extracted and saved :{filename}')"
   ]
  },
  {
   "cell_type": "code",
   "execution_count": null,
   "id": "a0f5b3d2",
   "metadata": {},
   "outputs": [],
   "source": [
    "def extract_article_text(url):\n",
    "    response = requests.get(url)\n",
    "    soup = BeautifulSoup(response.content, 'html.parser')\n",
    "\n",
    "    # Find the HTML elements containing the article title and text\n",
    "    title_element = soup.find('h1')\n",
    "    article_elements = soup.find_all('p')\n",
    "\n",
    "    # Extract the text from the title and article elements\n",
    "    title = title_element.text.strip() if title_element else ''\n",
    "    article_text = ' '.join([element.text.strip() for element in article_elements])\n",
    "\n",
    "    return title, article_text\n",
    "\n",
    "# Loop through the URLs and extract article text\n",
    "for index, row in data.iterrows():\n",
    "    url_id = row['URL_ID']\n",
    "    url = row['URL']\n",
    "\n",
    "    # Extract article text from the URL\n",
    "    title, article_text = extract_article_text(url)\n",
    "\n",
    "    # Save the extracted article in a text file\n",
    "    filename = f'{url_id}.txt'\n",
    "    with open(filename, 'w', encoding='utf-8') as file:\n",
    "        file.write(f'Title: {title}\\n\\n')\n",
    "        file.write(article_text)\n",
    "\n",
    "    print(f'Article extracted and saved: {filename}')"
   ]
  },
  {
   "cell_type": "code",
   "execution_count": null,
   "id": "e6a58d94",
   "metadata": {},
   "outputs": [],
   "source": []
  }
 ],
 "metadata": {
  "kernelspec": {
   "display_name": "Python 3 (ipykernel)",
   "language": "python",
   "name": "python3"
  },
  "language_info": {
   "codemirror_mode": {
    "name": "ipython",
    "version": 3
   },
   "file_extension": ".py",
   "mimetype": "text/x-python",
   "name": "python",
   "nbconvert_exporter": "python",
   "pygments_lexer": "ipython3",
   "version": "3.8.16"
  }
 },
 "nbformat": 4,
 "nbformat_minor": 5
}
